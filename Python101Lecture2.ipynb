{
 "cells": [
  {
   "cell_type": "markdown",
   "metadata": {
    "slideshow": {
     "slide_type": "slide"
    }
   },
   "source": [
    "# Python Demo: Instagram Comments Scraper\n",
    "------------------------------------------------------------------------\n",
    "\n",
    "\n",
    "![Instagram logo](https://financialtribune.com/sites/default/files/field/image/october/11_instagram_live_video_-_280.jpg)"
   ]
  },
  {
   "cell_type": "markdown",
   "metadata": {
    "slideshow": {
     "slide_type": "slide"
    }
   },
   "source": [
    "# Thonny is on Linux too\n",
    "--------------------------------------------------------------------------\n",
    "\n",
    "<img src=\"http://thonny.org/img/screenshot.png\" width=\"400\" height=\"400\" />\n",
    "```bash\n",
    "wget https://bitbucket.org/plas/thonny/downloads/thonny-2.1.13.sh\n",
    "chmod +x thonny-2.1.13.sh\n",
    "bash ./thonny-2.1.13.sh\n",
    "```"
   ]
  },
  {
   "cell_type": "markdown",
   "metadata": {
    "slideshow": {
     "slide_type": "slide"
    }
   },
   "source": [
    "# Why Python is usually not first choice for silly robots & automation?\n",
    "--------------------------------------------------------------------------------------------------------------\n",
    "\n",
    "![Stacks of money](http://s.thestreet.com/files/tsc/v2008/photos/contrib/uploads/80721bb7-cd48-11e6-b490-0f437cfe09ba.png)"
   ]
  },
  {
   "cell_type": "markdown",
   "metadata": {
    "slideshow": {
     "slide_type": "slide"
    }
   },
   "source": [
    "# Let's recap \n",
    "-------------------------------------------------------\n",
    "\n",
    "* Variables\n",
    "* Assigning variables to user input\n",
    "* Variable Types\n",
    "* Getting the type of a variable\n",
    "* Type casting(conversion). Let's also introduce *ord()* now.\n",
    "* Print\n",
    "* Comments\n",
    "* IMPORTANT but forgot to tell you: Operator precedence and associativity"
   ]
  },
  {
   "cell_type": "markdown",
   "metadata": {
    "slideshow": {
     "slide_type": "slide"
    }
   },
   "source": [
    "# Something we did not clear yesterday \n",
    "----------------------------------------------------------------\n",
    "\n",
    "list.sort() | sorted(list)\n",
    "------------ | -------------\n",
    "Sorts the list in place | Returns new sorted list"
   ]
  },
  {
   "cell_type": "markdown",
   "metadata": {
    "slideshow": {
     "slide_type": "slide"
    }
   },
   "source": [
    "# Other operations on lists\n",
    "-------------------------------------------------------------------------\n",
    "\n",
    "```python\n",
    "IN: list = [\"One\", \"Two\", \"Three\", \"Four\"]\n",
    "    del list[2]\n",
    "```\n",
    "What happens if you try to delete an element at non-existing index? "
   ]
  },
  {
   "cell_type": "markdown",
   "metadata": {
    "slideshow": {
     "slide_type": "subslide"
    }
   },
   "source": [
    "## Basic error handling\n",
    "------------------------------------------------------------------\n",
    "\n",
    "<img style=\"float: right;width:200px;height:200px;\" src=\"https://blog.sqlauthority.com/i/a/errorstop.png\" >\n",
    "```python\n",
    "IN: list = [\"One\", \"Two\", \"Three\", \"Four\"]\n",
    "    try:\n",
    "        del list[24]\n",
    "    except:\n",
    "        print(\"There's no element at that index.\")\n",
    "```\n"
   ]
  },
  {
   "cell_type": "markdown",
   "metadata": {
    "slideshow": {
     "slide_type": "subslide"
    }
   },
   "source": [
    " * ```python\n",
    "IN: list = [\"One\", \"Two\", \"Three\", \"Four\"]\n",
    "    list2 = [\"Five\", \"Six\", \"Seven\"]\n",
    "    print(list1+list2)\n",
    "    print(\"One\" in list)\n",
    "    print(\"One\" in list2)\n",
    "    print(list*3)\n",
    "    print(len(list))\n",
    "```\n",
    " * ```python\n",
    "IN: list = [1, 2, 4, 6]\n",
    "    print(max(list))\n",
    "    print(min(list))\n",
    "    print(list[-2])\n",
    "    print(list[-1:0])\n",
    "    print(list*3)\n",
    "    print(len(list))\n",
    "```"
   ]
  },
  {
   "cell_type": "markdown",
   "metadata": {
    "slideshow": {
     "slide_type": "subslide"
    }
   },
   "source": [
    "## Try yourself and work with documentation\n",
    "-------------------------------------------------------------------\n",
    "\n",
    "*  \tlist.append(obj)\n",
    "Appends object obj to list\n",
    "* \tlist.count(obj)\n",
    "Returns count of how many times obj occurs in list\n",
    "* list.extend(seq)\n",
    "Appends the contents of seq to list\n",
    "* list.index(obj)\n",
    "Returns the lowest index in list that obj appears\n",
    "*  \tlist.insert(index, obj)\n",
    "Inserts object obj into list at offset index\n",
    "*  \tlist.remove(obj)\n",
    "Removes the first occurance of object obj from list"
   ]
  },
  {
   "cell_type": "markdown",
   "metadata": {
    "slideshow": {
     "slide_type": "subslide"
    }
   },
   "source": [
    "## Something cool from Python 3\n",
    "-------------------------------------------------------------\n",
    "\n",
    "![Snoop Dog](http://bocktherobber.com.cdn.ie/wordpress/wp-content/uploads/2013/04/snoop-dogg_2.jpg)\n"
   ]
  },
  {
   "cell_type": "markdown",
   "metadata": {
    "slideshow": {
     "slide_type": "subslide"
    }
   },
   "source": [
    "## List unpacking \n",
    "--------------------------------------------------------------------------\n",
    "\n",
    "```python\n",
    "IN: data = [\"Elena\", \"Burgas\", 22, True]\n",
    "    name, city, age, married = data\n",
    "    first_name, *other = data\n",
    "```\n",
    "Try printing the variables now"
   ]
  },
  {
   "cell_type": "markdown",
   "metadata": {
    "slideshow": {
     "slide_type": "slide"
    }
   },
   "source": [
    "# *print* -ing needs to be fancier too\n",
    "--------------------------------------------------------------------------------\n",
    "\n",
    "```python\n",
    "IN: print(\"Sammy has {0:4} red {1:16}!\".format(5, \"balloons\")) #Aligning\n",
    "    print(\"Evgeni ate {0:f} percent of a {1}!\".format(75, \"pizza\")) # Next examples show more advanced formatting\n",
    "    print(\"Evgeni ate {0:.3f} percent of a pizza!\".format(75.765367))\n",
    "    print(\"Evgeni ate {0:.1f} percent of a pizza!\".format(75.765367))\n",
    "    print(\"Evgeni ate {0:d} percent of a pizza!\".format(75.765367)) #Float to integer conversion does not work this way\n",
    "    print(\"Evgeni ate {0:.0f} percent of a pizza!\".format(75.765367)) #Workaround for that. Still an iteger!\n",
    "```\n",
    "\n",
    "\n"
   ]
  },
  {
   "cell_type": "markdown",
   "metadata": {
    "slideshow": {
     "slide_type": "slide"
    }
   },
   "source": [
    "# Dictionaries \n",
    "-----------------------------------------------------------------------\n",
    "\n",
    "* Key value pairs\n",
    "* Key must be *string, number or tuple*\n",
    "\n",
    "```python\n",
    "    pesho = {'Name': 'Pesho', 'Age': 7, 'Grade': \"Third\"}\n",
    "    pesho['Age'] = 8; # Update existing entry\n",
    "    pesho['School'] = \"Some school\"; # Add new entry\n",
    "\n",
    "    print \"pesho['Age']: \", dict['Age']\n",
    "    print \"pesho['School']: \", dict['School']\n",
    "```"
   ]
  },
  {
   "cell_type": "markdown",
   "metadata": {
    "slideshow": {
     "slide_type": "subslide"
    }
   },
   "source": [
    "## del dict, del dict[\"some_key\"], dict.clear()\n",
    "-------------------------------------------------------------------------------------"
   ]
  },
  {
   "cell_type": "markdown",
   "metadata": {
    "slideshow": {
     "slide_type": "slide"
    }
   },
   "source": [
    "# Time for a lab: calculating P and S of a rectangle\n",
    "-----------------------------------------------------------------------------------------\n",
    "* Do the triangle or other figures for homework \n",
    "\n",
    "![Rectangle](https://openclipart.org/download/263195/1475409574.svg)\n"
   ]
  },
  {
   "cell_type": "markdown",
   "metadata": {
    "slideshow": {
     "slide_type": "slide"
    }
   },
   "source": [
    "# Revision\n",
    "\n",
    "<img style=\"float: right;width:200px;height:430px;\" src=\"http://vignette3.wikia.nocookie.net/simpsons/images/8/82/Bart%27s_eldest_son.png/revision/latest?cb=20141028004949\" >\n",
    "\n",
    "* Dictionaries.\n",
    "* Show me what you got. Demonstrate operations on lists. Do not forget unpacking.\n",
    "* Some fancy output formatting.\n",
    "\n",
    "## Let's learn something new: Sets\n",
    "\n",
    "The set is an unordered collection of unique and immutable objects. \n",
    "Don't mind the **immutability** part for now.\n",
    "\n",
    "```python\n",
    "IN: x = set([\"Perl\", \"Python\", \"Java\", \"Python\"])\n",
    "    print(x)\n",
    "```"
   ]
  },
  {
   "cell_type": "markdown",
   "metadata": {
    "slideshow": {
     "slide_type": "slide"
    }
   },
   "source": [
    "## Sets - Union(|), Intersection(&), Difference(-)\n",
    "\n",
    "\n",
    "![Overlapping Circles](http://jwilson.coe.uga.edu/EMAT6680Su12/Carreras/EMAT6690/Essay2/circles[1].JPG)"
   ]
  },
  {
   "cell_type": "markdown",
   "metadata": {
    "slideshow": {
     "slide_type": "slide"
    }
   },
   "source": [
    "# Code formatting PEP8 - ** tabs vs spaces **\n",
    "-------------------------------------------------------------------------\n",
    "\n",
    "[![Tabs vs spaces](http://img.youtube.com/vi/SsoOG6ZeyUI/0.jpg)](https://www.youtube.com/watch?v=SsoOG6ZeyUI \"Tabs vs Spaces\")"
   ]
  },
  {
   "cell_type": "markdown",
   "metadata": {
    "slideshow": {
     "slide_type": "subslide"
    }
   },
   "source": [
    "## More PEP 8\n",
    "\n",
    "[Learn PEP8 from here, believe me](http://pymbook.readthedocs.io/en/latest/pep8.html)\n",
    "\n",
    "[Homework: understand linters and PyLint](https://github.com/PyCQA/pylint)\n",
    "\n",
    "[Homework: Flake8](http://flake8.pycqa.org/en/latest/)\n",
    "\n"
   ]
  },
  {
   "cell_type": "markdown",
   "metadata": {
    "slideshow": {
     "slide_type": "slide"
    }
   },
   "source": [
    "# Functions - just pieces of reusable functionality(code)\n",
    "---------------------------------------------------------------------------------------\n",
    "\n",
    "```python\n",
    "IN: def printme(str):\n",
    "        print(str)\n",
    "        return\n",
    "```\n",
    "* Let's make our rectangle program reusable - put it inside a function"
   ]
  },
  {
   "cell_type": "markdown",
   "metadata": {
    "slideshow": {
     "slide_type": "slide"
    }
   },
   "source": [
    "# The range function\n",
    "----------------------------------------------------------------\n",
    "\n",
    "```python\n",
    "IN: years = range(0,12)\n",
    "    print(years)\n",
    "```"
   ]
  },
  {
   "cell_type": "markdown",
   "metadata": {
    "slideshow": {
     "slide_type": "slide"
    }
   },
   "source": [
    "# Control Flow\n",
    "-----------------------------------------------------------\n",
    "\n",
    "* I told you programs are always executed top-down. Well, I lied :)\n",
    "* Let's see how we can implement a number guessing game.\n",
    "```python\n",
    "IN:   number = 23\n",
    "        guess = int(input('Enter an integer : '))\n",
    "\n",
    "        if guess == number:\n",
    "            print('Congratulations, you guessed it. No prizes this time :)')\n",
    "        elif guess < number:\n",
    "            print('No, it is a little higher than that')\n",
    "        else:\n",
    "            print('No, it is a little lower than that')\n",
    "        print('Done')\n",
    "```\n",
    "* No *switch* statement in Python."
   ]
  },
  {
   "cell_type": "markdown",
   "metadata": {
    "slideshow": {
     "slide_type": "subslide"
    }
   },
   "source": [
    "## Why is it called Python?\n",
    "------------------------------------------\n",
    "\n",
    " <form>\n",
    "  <input type=\"checkbox\" name=\"vehicle\" value=\"Bike\"> That big snake.<br>\n",
    "  <input type=\"checkbox\" name=\"vehicle\" value=\"Car\"> Something else.<br>\n",
    "</form> "
   ]
  },
  {
   "cell_type": "markdown",
   "metadata": {
    "slideshow": {
     "slide_type": "subslide"
    }
   },
   "source": [
    "## *while* statement\n",
    "----------------------------------------------------\n",
    "\n",
    "```python\n",
    "IN:     number = 23\n",
    "        running = True\n",
    "\n",
    "        while running:\n",
    "            guess = int(input('Enter an integer : '))\n",
    "            if guess == number:\n",
    "                print('Congratulations, you guessed it.')\n",
    "                running = False\n",
    "            elif guess < number:\n",
    "                print('No, it is a little higher than that.')\n",
    "            else:\n",
    "                print('No, it is a little lower than that.')\n",
    "        else:\n",
    "            print('The while loop is over.')\n",
    "   \n",
    "        print('Done')\n",
    "```\n"
   ]
  },
  {
   "cell_type": "markdown",
   "metadata": {
    "slideshow": {
     "slide_type": "subslide"
    }
   },
   "source": [
    "\n",
    "## *break* statement\n",
    "---------------------------------------------------\n",
    "\n",
    "* Break out of a loop statement i.e. stop the execution of a looping statement, even if the loop condition has not become False or the sequence of items has not been completely iterated over.\n",
    "\n",
    "```python\n",
    "IN:     while True:\n",
    "            s = input('Enter something : ')\n",
    "            if s == 'quit':\n",
    "                break\n",
    "            print('Length of the string is', len(s))\n",
    "        print('Done')\n",
    "```"
   ]
  },
  {
   "cell_type": "markdown",
   "metadata": {
    "slideshow": {
     "slide_type": "subslide"
    }
   },
   "source": [
    "## *for* statement\n",
    "----------------------------------------------------\n",
    "\n",
    "```python\n",
    "IN: for i in range(1, 5):\n",
    "        print(i)\n",
    "    print('The for loop is over')\n",
    "```"
   ]
  },
  {
   "cell_type": "markdown",
   "metadata": {
    "slideshow": {
     "slide_type": "subslide"
    }
   },
   "source": [
    "## Iterating over lists\n",
    "\n",
    "```python\n",
    "IN: a = [3,4,5,6]\n",
    "    for i, val in enumerate(a):\n",
    "       print i, val\n",
    "```"
   ]
  },
  {
   "cell_type": "markdown",
   "metadata": {
    "slideshow": {
     "slide_type": "subslide"
    }
   },
   "source": [
    "## Iterating over dictionaries\n",
    "\n",
    "```python\n",
    "IN: d = {'Number': '3', 'Name': 'Ivan'} \n",
    "    for k,v in d.items():\n",
    "         print(k, 'corresponds to', v)\n",
    "```"
   ]
  },
  {
   "cell_type": "markdown",
   "metadata": {
    "slideshow": {
     "slide_type": "subslide"
    }
   },
   "source": [
    "## *continue* statement\n",
    "-------------------------------------------------------\n",
    "\n",
    "```python\n",
    "IN:  for my_var in range(0,100):\n",
    "        if my_var < 10:\n",
    "            continue\n",
    "        elif my_var == 10:\n",
    "            print(\"hit\")\n",
    "        elif my_var > 10:\n",
    "            print(\"passed\")\n",
    "```"
   ]
  },
  {
   "cell_type": "markdown",
   "metadata": {
    "slideshow": {
     "slide_type": "slide"
    }
   },
   "source": [
    "## Almost there\n",
    "----------------------------------------------------\n",
    "\n",
    "* But first let's learn how to sort a list(not being lazy and using the clever function).\n",
    "![Mr Bean at the finish line](http://i.dailymail.co.uk/i/pix/2012/07/28/article-2180052-143FD5AA000005DC-146_964x529.jpg)\n"
   ]
  },
  {
   "cell_type": "markdown",
   "metadata": {
    "slideshow": {
     "slide_type": "slide"
    }
   },
   "source": [
    "## Modules, Packages\n",
    "\n",
    "* import x\n",
    "* from x import * - not a good practice\n",
    "* How the interpreter looks for modules. PYTHONPATH.\n",
    "* Use our program as a module.\n",
    "\n"
   ]
  },
  {
   "cell_type": "markdown",
   "metadata": {
    "slideshow": {
     "slide_type": "slide"
    }
   },
   "source": [
    "## Practice on modules - random\n",
    "\n",
    "* randint(start, stop)\n",
    "* random() - no arguments\n",
    "* uniform(start,stop)\n",
    "* gauss(mean,stdev)\n",
    "* randrange(start,stop,step)\n",
    "* choice(list)\n",
    "* shuffle(list)\n",
    "* sample(population,k)\n"
   ]
  },
  {
   "cell_type": "markdown",
   "metadata": {},
   "source": [
    "## Practice on modules - datetime and Requests"
   ]
  },
  {
   "cell_type": "code",
   "execution_count": null,
   "metadata": {
    "collapsed": true
   },
   "outputs": [],
   "source": []
  }
 ],
 "metadata": {
  "celltoolbar": "Slideshow",
  "kernelspec": {
   "display_name": "Python 3",
   "language": "python",
   "name": "python3"
  },
  "language_info": {
   "codemirror_mode": {
    "name": "ipython",
    "version": 3
   },
   "file_extension": ".py",
   "mimetype": "text/x-python",
   "name": "python",
   "nbconvert_exporter": "python",
   "pygments_lexer": "ipython3",
   "version": "3.6.3"
  }
 },
 "nbformat": 4,
 "nbformat_minor": 2
}
