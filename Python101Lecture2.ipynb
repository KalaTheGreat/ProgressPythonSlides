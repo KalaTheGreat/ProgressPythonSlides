{
 "cells": [
  {
   "cell_type": "markdown",
   "metadata": {
    "slideshow": {
     "slide_type": "slide"
    }
   },
   "source": [
    "# Python Demo: Instagram Comments Scraper\n",
    "------------------------------------------------------------------------\n",
    "\n",
    "\n",
    "![Instagram logo](https://financialtribune.com/sites/default/files/field/image/october/11_instagram_live_video_-_280.jpg)"
   ]
  },
  {
   "cell_type": "markdown",
   "metadata": {
    "slideshow": {
     "slide_type": "slide"
    }
   },
   "source": [
    "# Thonny is on Linux too\n",
    "--------------------------------------------------------------------------\n",
    "\n",
    "<img src=\"http://thonny.org/img/screenshot.png\" width=\"400\" height=\"400\" />\n",
    "```bash\n",
    "wget https://bitbucket.org/plas/thonny/downloads/thonny-2.1.13.sh\n",
    "chmod +x thonny-2.1.13.sh\n",
    "bash ./thonny-2.1.13.sh\n",
    "```"
   ]
  },
  {
   "cell_type": "markdown",
   "metadata": {
    "slideshow": {
     "slide_type": "slide"
    }
   },
   "source": [
    "# Why Python is usually not first choice for silly robots & automation?\n",
    "--------------------------------------------------------------------------------------------------------------\n",
    "\n",
    "![Stacks of money](http://s.thestreet.com/files/tsc/v2008/photos/contrib/uploads/80721bb7-cd48-11e6-b490-0f437cfe09ba.png)"
   ]
  },
  {
   "cell_type": "markdown",
   "metadata": {
    "slideshow": {
     "slide_type": "slide"
    }
   },
   "source": [
    "# Let's recap \n",
    "-------------------------------------------------------\n",
    "\n",
    "* Variables\n",
    "* Assigning variables to user input\n",
    "* Variable Types\n",
    "* Getting the type of a variable\n",
    "* Type casting(conversion). Let's also introduce *ord()* now.\n",
    "* Print\n",
    "* Comments\n",
    "* IMPORTANT but forgot to tell you: Operator precedence and associativity"
   ]
  },
  {
   "cell_type": "markdown",
   "metadata": {
    "slideshow": {
     "slide_type": "slide"
    }
   },
   "source": [
    "# Something we did not clear yesterday \n",
    "----------------------------------------------------------------\n",
    "\n",
    "list.sort() | sorted(list)\n",
    "------------ | -------------\n",
    "Sorts the list in place | Returns new sorted list"
   ]
  },
  {
   "cell_type": "markdown",
   "metadata": {
    "slideshow": {
     "slide_type": "slide"
    }
   },
   "source": [
    "# Other operations on lists\n",
    "-------------------------------------------------------------------------\n",
    "\n",
    "```python\n",
    "IN: list = [\"One\", \"Two\", \"Three\", \"Four\"]\n",
    "    del list[2]\n",
    "```\n",
    "What happens if you try to delete an element at non-existing index? "
   ]
  },
  {
   "cell_type": "markdown",
   "metadata": {
    "slideshow": {
     "slide_type": "subslide"
    }
   },
   "source": [
    "## Basic error handling\n",
    "------------------------------------------------------------------\n",
    "\n",
    "<img style=\"float: right;width:200px;height:200px;\" src=\"https://blog.sqlauthority.com/i/a/errorstop.png\" >\n",
    "```python\n",
    "IN: list = [\"One\", \"Two\", \"Three\", \"Four\"]\n",
    "    try:\n",
    "        del list[24]\n",
    "    except:\n",
    "        print(\"There's no element at that index.\")\n",
    "```\n"
   ]
  },
  {
   "cell_type": "markdown",
   "metadata": {
    "slideshow": {
     "slide_type": "subslide"
    }
   },
   "source": [
    " * ```python\n",
    "IN: list = [\"One\", \"Two\", \"Three\", \"Four\"]\n",
    "    list2 = [\"Five\", \"Six\", \"Seven\"]\n",
    "    print(list1+list2)\n",
    "    print(\"One\" in list)\n",
    "    print(\"One\" in list2)\n",
    "    print(list*3)\n",
    "    print(len(list))\n",
    "```\n",
    " * ```python\n",
    "IN: list = [1, 2, 4, 6]\n",
    "    print(max(list))\n",
    "    print(min(list))\n",
    "    print(list[-2])\n",
    "    print(list[-1:0])\n",
    "    print(list*3)\n",
    "    print(len(list))\n",
    "```"
   ]
  },
  {
   "cell_type": "markdown",
   "metadata": {
    "slideshow": {
     "slide_type": "subslide"
    }
   },
   "source": [
    "## Try yourself and work with documentation\n",
    "-------------------------------------------------------------------\n",
    "\n",
    "*  \tlist.append(obj)\n",
    "Appends object obj to list\n",
    "* \tlist.count(obj)\n",
    "Returns count of how many times obj occurs in list\n",
    "* list.extend(seq)\n",
    "Appends the contents of seq to list\n",
    "* list.index(obj)\n",
    "Returns the lowest index in list that obj appears\n",
    "*  \tlist.insert(index, obj)\n",
    "Inserts object obj into list at offset index\n",
    "*  \tlist.remove(obj)\n",
    "Removes the first occurance of object obj from list"
   ]
  },
  {
   "cell_type": "markdown",
   "metadata": {
    "slideshow": {
     "slide_type": "subslide"
    }
   },
   "source": [
    "## Something cool from Python 3\n",
    "-------------------------------------------------------------\n",
    "\n",
    "![Snoop Dog](http://bocktherobber.com.cdn.ie/wordpress/wp-content/uploads/2013/04/snoop-dogg_2.jpg)\n"
   ]
  },
  {
   "cell_type": "markdown",
   "metadata": {
    "slideshow": {
     "slide_type": "subslide"
    }
   },
   "source": [
    "## List unpacking \n",
    "--------------------------------------------------------------------------\n",
    "\n",
    "```python\n",
    "IN: data = [\"Elena\", \"Burgas\", 22, True]\n",
    "    name, city, age, married = data\n",
    "    first_name, *other = data\n",
    "```\n",
    "Try printing the variables now"
   ]
  },
  {
   "cell_type": "markdown",
   "metadata": {
    "slideshow": {
     "slide_type": "slide"
    }
   },
   "source": [
    "# *print* -ing needs to be fancier too\n",
    "--------------------------------------------------------------------------------\n",
    "\n",
    "```python\n",
    "IN: print(\"Sammy has {0:4} red {1:16}!\".format(5, \"balloons\")) #Aligning\n",
    "    print(\"Evgeni ate {0:f} percent of a {1}!\".format(75, \"pizza\")) # Next examples show more advanced formatting\n",
    "    print(\"Evgeni ate {0:.3f} percent of a pizza!\".format(75.765367))\n",
    "    print(\"Evgeni ate {0:.1f} percent of a pizza!\".format(75.765367))\n",
    "    print(\"Evgeni ate {0:d} percent of a pizza!\".format(75.765367)) #Float to integer conversion does not work this way\n",
    "    print(\"Evgeni ate {0:.0f} percent of a pizza!\".format(75.765367)) #Workaround for that. Still an iteger!\n",
    "```\n",
    "\n",
    "\n"
   ]
  },
  {
   "cell_type": "markdown",
   "metadata": {
    "slideshow": {
     "slide_type": "slide"
    }
   },
   "source": [
    "# Dictionaries \n",
    "-----------------------------------------------------------------------\n",
    "\n",
    "* Key value pairs\n",
    "* Key must be *string, number or tuple*\n",
    "\n",
    "```python\n",
    "    pesho = {'Name': 'Pesho', 'Age': 7, 'Grade': \"Third\"}\n",
    "    pesho['Age'] = 8; # Update existing entry\n",
    "    pesho['School'] = \"Some school\"; # Add new entry\n",
    "\n",
    "    print(\"pesho['Age']: {0}\".format(dict['Age']))\n",
    "    print(\"pesho['School']: {0}\".format(dict['School']))\n",
    "```"
   ]
  },
  {
   "cell_type": "markdown",
   "metadata": {
    "slideshow": {
     "slide_type": "subslide"
    }
   },
   "source": [
    "## del dict, del dict[\"some_key\"], dict.clear()\n",
    "-------------------------------------------------------------------------------------"
   ]
  },
  {
   "cell_type": "markdown",
   "metadata": {
    "slideshow": {
     "slide_type": "slide"
    }
   },
   "source": [
    "# Time for a lab: calculating P and S of a rectangle\n",
    "-----------------------------------------------------------------------------------------\n",
    "* Do the triangle or other figures for homework \n",
    "\n",
    "![Rectangle](https://openclipart.org/download/263195/1475409574.svg)\n"
   ]
  },
  {
   "cell_type": "markdown",
   "metadata": {
    "slideshow": {
     "slide_type": "slide"
    }
   },
   "source": [
    "# Revision\n",
    "\n",
    "<img style=\"float: right;width:200px;height:430px;\" src=\"http://vignette3.wikia.nocookie.net/simpsons/images/8/82/Bart%27s_eldest_son.png/revision/latest?cb=20141028004949\" >\n",
    "\n",
    "* Dictionaries.\n",
    "* Show me what you got. Demonstrate operations on lists. Do not forget unpacking.\n",
    "* Some fancy output formatting.\n",
    "\n",
    "## Let's learn something new: Sets\n",
    "\n",
    "The set is an unordered collection of unique and immutable objects. \n",
    "Don't mind the **immutability** part for now.\n",
    "\n",
    "```python\n",
    "IN: x = set([\"Perl\", \"Python\", \"Java\", \"Python\"])\n",
    "    print(x)\n",
    "```"
   ]
  },
  {
   "cell_type": "markdown",
   "metadata": {
    "slideshow": {
     "slide_type": "slide"
    }
   },
   "source": [
    "## Sets - Union(|), Intersection(&), Difference(-)\n",
    "\n",
    "\n",
    "![Overlapping Circles](http://jwilson.coe.uga.edu/EMAT6680Su12/Carreras/EMAT6690/Essay2/circles[1].JPG)"
   ]
  },
  {
   "cell_type": "markdown",
   "metadata": {
    "slideshow": {
     "slide_type": "slide"
    }
   },
   "source": [
    "# Code formatting PEP8 - ** tabs vs spaces **\n",
    "-------------------------------------------------------------------------\n",
    "\n",
    "[![Tabs vs spaces](http://img.youtube.com/vi/SsoOG6ZeyUI/0.jpg)](https://www.youtube.com/watch?v=SsoOG6ZeyUI \"Tabs vs Spaces\")"
   ]
  },
  {
   "cell_type": "markdown",
   "metadata": {
    "slideshow": {
     "slide_type": "subslide"
    }
   },
   "source": [
    "## More PEP 8\n",
    "\n",
    "[Learn PEP8 from here, believe me](http://pymbook.readthedocs.io/en/latest/pep8.html)\n",
    "\n",
    "[Homework: understand linters and PyLint](https://github.com/PyCQA/pylint)\n",
    "\n",
    "[Homework: Flake8](http://flake8.pycqa.org/en/latest/)\n",
    "\n"
   ]
  },
  {
   "cell_type": "markdown",
   "metadata": {
    "slideshow": {
     "slide_type": "slide"
    }
   },
   "source": [
    "# Functions - just pieces of reusable functionality(code)\n",
    "---------------------------------------------------------------------------------------\n",
    "\n",
    "```python\n",
    "IN: def printme(str):\n",
    "        print(str)\n",
    "        return\n",
    "```\n",
    "* Let's make our rectangle program reusable - put it inside a function"
   ]
  },
  {
   "cell_type": "markdown",
   "metadata": {
    "slideshow": {
     "slide_type": "slide"
    }
   },
   "source": [
    "## The range function\n",
    "----------------------------------------------------------------\n",
    "\n",
    "```python\n",
    "IN: years = range(2005,2012,2)\n",
    "    print(years)\n",
    "```"
   ]
  },
  {
   "cell_type": "markdown",
   "metadata": {
    "slideshow": {
     "slide_type": "slide"
    }
   },
   "source": [
    "# Control Flow\n",
    "-----------------------------------------------------------\n",
    "\n",
    "* I told you programs are always executed top-down. Well, I lied :)\n",
    "* Let's see how we can implement a number guessing game.\n",
    "```python\n",
    "IN:   number = 23\n",
    "        guess = int(input('Enter an integer : '))\n",
    "\n",
    "        if guess == number:\n",
    "            print('Congratulations, you guessed it. No prizes this time :)')\n",
    "        elif guess < number:\n",
    "            print('No, it is a little higher than that')\n",
    "        else:\n",
    "            print('No, it is a little lower than that')\n",
    "        print('Done')\n",
    "```\n",
    "* No *switch* statement in Python."
   ]
  },
  {
   "cell_type": "markdown",
   "metadata": {
    "slideshow": {
     "slide_type": "subslide"
    }
   },
   "source": [
    "## Pause for some trivia: Why is it called Python?\n",
    "------------------------------------------\n",
    "\n",
    " <form>\n",
    "  <input type=\"checkbox\" name=\"vehicle\" value=\"Bike\"> That big snake.<br>\n",
    "  <input type=\"checkbox\" name=\"vehicle\" value=\"Car\"> Something else.<br>\n",
    "</form> "
   ]
  },
  {
   "cell_type": "markdown",
   "metadata": {
    "slideshow": {
     "slide_type": "subslide"
    }
   },
   "source": [
    "## Rewriting the guessing game with recursion\n",
    "-------------------------------------------------------------------\n",
    "\n",
    "* Show why recursion can be tricky - factorial and fibonacci examples\n",
    "\n",
    "```python\n",
    "IN: def factorial(n):                            IN: def fib(n):        \n",
    "        if n == 1:                                       if n == 0:\n",
    "            return 1                                         return 0\n",
    "        else:                                            elif n == 1:\n",
    "            return n * factorial(n-1)                        return 1\n",
    "                                                         else:\n",
    "    print(factorial(10))                                     return fib(n-1) + fib(n-2)\n",
    "```"
   ]
  },
  {
   "cell_type": "markdown",
   "metadata": {
    "slideshow": {
     "slide_type": "subslide"
    }
   },
   "source": [
    "## *while* statement\n",
    "----------------------------------------------------\n",
    "\n",
    "```python\n",
    "IN:     number = 23\n",
    "        running = True\n",
    "\n",
    "        while running:\n",
    "            guess = int(input('Enter an integer : '))\n",
    "            if guess == number:\n",
    "                print('Congratulations, you guessed it.')\n",
    "                running = False\n",
    "            elif guess < number:\n",
    "                print('No, it is a little higher than that.')\n",
    "            else:\n",
    "                print('No, it is a little lower than that.')\n",
    "        else:\n",
    "            print('The while loop is over.')\n",
    "   \n",
    "        print('Done')\n",
    "```\n"
   ]
  },
  {
   "cell_type": "markdown",
   "metadata": {
    "slideshow": {
     "slide_type": "subslide"
    }
   },
   "source": [
    "\n",
    "## *break* statement\n",
    "---------------------------------------------------\n",
    "\n",
    "* Break out of a loop statement i.e. stop the execution of a looping statement, even if the loop condition has not become False or the sequence of items has not been completely iterated over.\n",
    "\n",
    "```python\n",
    "IN:     while True:\n",
    "            s = input('Enter something : ')\n",
    "            if s == 'quit':\n",
    "                break\n",
    "            print('Length of the string is', len(s))\n",
    "        print('Done')\n",
    "```"
   ]
  },
  {
   "cell_type": "markdown",
   "metadata": {
    "slideshow": {
     "slide_type": "subslide"
    }
   },
   "source": [
    "## *for* statement\n",
    "----------------------------------------------------\n",
    "\n",
    "```python\n",
    "IN: for i in range(1, 5):\n",
    "        print(i)\n",
    "    print('The for loop is over')\n",
    "```"
   ]
  },
  {
   "cell_type": "markdown",
   "metadata": {
    "slideshow": {
     "slide_type": "subslide"
    }
   },
   "source": [
    "## Iterative factorial \n",
    "---------------------------------------------------------------\n",
    "\n",
    "```python\n",
    "IN: def factorial(num):\n",
    "        product = 1\n",
    "        for i in range(num):\n",
    "            product *=   i + 1\n",
    "        return product\n",
    "```\n",
    "\n",
    "* Let's rewrite the fibonacci iteratively together"
   ]
  },
  {
   "cell_type": "markdown",
   "metadata": {
    "slideshow": {
     "slide_type": "subslide"
    }
   },
   "source": [
    "## Iterating over lists\n",
    "\n",
    "```python\n",
    "IN: a = [3,4,5,6]\n",
    "    for i, val in enumerate(a):\n",
    "       print i, val\n",
    "```"
   ]
  },
  {
   "cell_type": "markdown",
   "metadata": {
    "slideshow": {
     "slide_type": "subslide"
    }
   },
   "source": [
    "## Iterating over dictionaries\n",
    "\n",
    "```python\n",
    "IN: d = {'Number': '3', 'Name': 'Ivan'} \n",
    "    for k,v in d.items():\n",
    "         print(k, 'corresponds to', v)\n",
    "```"
   ]
  },
  {
   "cell_type": "markdown",
   "metadata": {
    "slideshow": {
     "slide_type": "subslide"
    }
   },
   "source": [
    "## *continue* statement\n",
    "-------------------------------------------------------\n",
    "\n",
    "```python\n",
    "IN:  for my_var in range(0,100):\n",
    "        if my_var < 10:\n",
    "            continue\n",
    "        elif my_var == 10:\n",
    "            print(\"hit\")\n",
    "        elif my_var > 10:\n",
    "            print(\"passed\")\n",
    "```"
   ]
  },
  {
   "cell_type": "markdown",
   "metadata": {
    "slideshow": {
     "slide_type": "slide"
    }
   },
   "source": [
    "## Almost there....not\n",
    "----------------------------------------------------\n",
    "\n",
    "* But first let's learn how to sort a list(not being lazy and using the clever function).\n",
    "![Mr Bean at the finish line](http://i.dailymail.co.uk/i/pix/2012/07/28/article-2180052-143FD5AA000005DC-146_964x529.jpg)\n"
   ]
  },
  {
   "cell_type": "markdown",
   "metadata": {
    "slideshow": {
     "slide_type": "subslide"
    }
   },
   "source": [
    "## Two bubble sorts\n",
    "-----------------------------------------------------\n",
    "```python\n",
    "IN: def bubble_sort(l):\n",
    "        for passes_left in range(len(l)-1, 0, -1):\n",
    "            for index in range(passes_left):\n",
    "                if l[index] < l[index + 1]:\n",
    "                   l[index], l[index + 1] = l[index + 1], l[index]\n",
    "        return l\n",
    "```\n",
    "![Bubble sort](https://upload.wikimedia.org/wikipedia/commons/c/c8/Bubble-sort-example-300px.gif)"
   ]
  },
  {
   "cell_type": "code",
   "execution_count": 1,
   "metadata": {
    "slideshow": {
     "slide_type": "subslide"
    }
   },
   "outputs": [
    {
     "name": "stdout",
     "output_type": "stream",
     "text": [
      "[3, 6, 8, 12]\n"
     ]
    }
   ],
   "source": [
    "badList = [12,3,8,6]\n",
    "length = len(badList)-1\n",
    "sorted = False\n",
    "\n",
    "while not sorted:\n",
    "    sorted = True\n",
    "    for element in range(0, length):\n",
    "        if badList[element] > badList[element + 1]:\n",
    "            sorted = False \n",
    "            hold = badList[element + 1]\n",
    "            badList[element + 1] = badList[element]\n",
    "            badList[element] = hold\n",
    "            \n",
    "print(badList)"
   ]
  },
  {
   "cell_type": "markdown",
   "metadata": {
    "slideshow": {
     "slide_type": "slide"
    }
   },
   "source": [
    "# File operations\n",
    "-------------------------------------------------------------------\n",
    "![Files](https://users.soe.ucsc.edu/~charlie/book/notes/chap10/img003.gif)"
   ]
  },
  {
   "cell_type": "markdown",
   "metadata": {
    "slideshow": {
     "slide_type": "subslide"
    }
   },
   "source": [
    "```python\n",
    "IN: f = open(“workfile”,”w”) \n",
    "    all_text = f.read()\n",
    "    all_lines = f.readlines()\n",
    "    line = f.readline()\n",
    "    f.close()\n",
    "    f.closed\n",
    "```\n",
    "Modes:\n",
    "\n",
    "   * ‘r’ – Read mode which is used when the file is only being read \n",
    "   * ‘w’ – Write mode which is used to edit and write new information to the file (any existing files with the same name will be erased when this mode is activated) \n",
    "   * ‘a’ – Appending mode, which is used to add new data to the end of the file; that is new information is automatically amended to the end \n",
    "   * ‘r+’ – Special read and write mode, which is used to handle both actions when working with a file \n",
    "\n",
    "Moving to the beginning of a file\n",
    "```python\n",
    "    f.seek(0,0)\n",
    "```\n"
   ]
  },
  {
   "cell_type": "markdown",
   "metadata": {
    "slideshow": {
     "slide_type": "subslide"
    }
   },
   "source": [
    "## With open\n",
    "------------------------------------------------------------------------------\n",
    "\n",
    "> It is good practice to use the with keyword when dealing with file objects. The advantage is that the file is properly closed after its suite finishes, even if an exception is raised at some point. Using with is also much shorter than writing equivalent try-finally blocks:\n",
    "\n",
    "```python\n",
    "IN: with open('workfile') as f:\n",
    "        read_data = f.read()\n",
    "```"
   ]
  },
  {
   "cell_type": "markdown",
   "metadata": {
    "slideshow": {
     "slide_type": "slide"
    }
   },
   "source": [
    "## Modules, Packages\n",
    "-----------------------------------------------------\n",
    "* Help us logically organize our code\n",
    "* Distribution of reusable functionality is easier this way\n",
    "* Module - any Python (.py, .pyw) file\n",
    "* Package - collection of python modules. Will get to them when we speak about OOP.\n",
    ">It’s important to keep in mind that all packages are modules, but not all modules are packages. Or put another way, packages are just a special kind of module. Specifically, any module that contains a __path__ attribute is considered a package.\n",
    "\n"
   ]
  },
  {
   "cell_type": "markdown",
   "metadata": {
    "slideshow": {
     "slide_type": "subslide"
    }
   },
   "source": [
    "## Package managers and package repositories\n",
    "-----------------------------------------------------------------------\n",
    "\n",
    "* [PyPi repo](https://pypi.python.org/pypi)\n",
    "* PIP and easy_install\n",
    "* Wheels and eggs \n",
    "* Do not trust someone else's code!!!"
   ]
  },
  {
   "cell_type": "markdown",
   "metadata": {
    "slideshow": {
     "slide_type": "slide"
    }
   },
   "source": [
    "## Practice on modules - random\n",
    "------------------------------------------------------------------\n",
    "<img style=\"float: right;width:200px;height:200px;\" src=\"https://images-na.ssl-images-amazon.com/images/I/410XLGFACmL._SL500_AC_SS350_.jpg\" >\n",
    "* randint(start, stop)\n",
    "* random() - no arguments\n",
    "* uniform(start,stop)\n",
    "* gauss(mean,stdev)\n",
    "* randrange(start,stop,step)\n",
    "* choice(list)\n",
    "* shuffle(list)\n",
    "* sample(population,k)\n",
    "\n",
    "Try the **math** module by yourself now"
   ]
  },
  {
   "cell_type": "markdown",
   "metadata": {
    "slideshow": {
     "slide_type": "subslide"
    }
   },
   "source": [
    "## Practice on modules - datetime and Requests"
   ]
  },
  {
   "cell_type": "code",
   "execution_count": null,
   "metadata": {
    "collapsed": true
   },
   "outputs": [],
   "source": []
  }
 ],
 "metadata": {
  "celltoolbar": "Slideshow",
  "kernelspec": {
   "display_name": "Python 3",
   "language": "python",
   "name": "python3"
  },
  "language_info": {
   "codemirror_mode": {
    "name": "ipython",
    "version": 3
   },
   "file_extension": ".py",
   "mimetype": "text/x-python",
   "name": "python",
   "nbconvert_exporter": "python",
   "pygments_lexer": "ipython3",
   "version": "3.6.3"
  }
 },
 "nbformat": 4,
 "nbformat_minor": 2
}
