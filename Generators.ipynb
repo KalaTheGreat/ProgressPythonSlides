{
 "cells": [
  {
   "cell_type": "markdown",
   "metadata": {},
   "source": [
    "# Understanding Generator Expressions (Generators)\n",
    "--------------------------------------------------------------------------------\n",
    "\n",
    "![](https://dbader-static-defugurjmqrkjo.netdna-ssl.com/figures/python-generator-expressions.jpg)"
   ]
  },
  {
   "cell_type": "markdown",
   "metadata": {},
   "source": [
    "# In-memory vs Lazy\n",
    "-----------------------------------------------------------------------------\n",
    "* Many functions in Python use or generate in-memory lists for iteration.  This is fine for relatively small list, but for large lists it becomes a problem.\n",
    "* List expressions are all created at once and kept in memory.\n",
    "\n",
    "```python\n",
    ">>>import sys \n",
    ">>>sys.getsizeof([x for x in range(0,1000000)])\n",
    ">>>4348736\n",
    "```\n",
    "\n",
    "* 4+ MegaBytes of memory just for this. And what if we don't need it all at once?\n"
   ]
  },
  {
   "cell_type": "markdown",
   "metadata": {},
   "source": [
    "# Laaaazy\n",
    "---------------------------------------------------------------------------------\n",
    "\n",
    "* Lazy Lists\n",
    "\n",
    "> A lazy list is when the next item is supplied when needed, and not before.  If we stop processing before reaching the end of the list then those unused items will never be generated or use up resources. It is also possible to run an endless list. Lazy lists are implemented by supplying an iterator to the list, rather than the whole list itself.\n",
    "\n",
    "```python\n",
    "def simp():\n",
    "    yield 10\n",
    "    yield 20\n",
    "    yield 30\n",
    " \n",
    "it=simp()\n",
    "print(next(it)) # print(it.next()) would be the Python 2 syntax\n",
    "print(next(it)) # 20\n",
    "print(next(it)) # 30\n",
    "```"
   ]
  },
  {
   "cell_type": "markdown",
   "metadata": {},
   "source": [
    "# Careful! Don't iterate over the generator itself\n",
    "----------------------------------------------------------------\n",
    "\n",
    "```python\n",
    "def simp():\n",
    "    yield 10\n",
    "    yield 20\n",
    "    yield 30\n",
    " \n",
    "simp()\n",
    "print(next(simp())) # print(it.next()) would be the Python 2 syntax\n",
    "print(next(simp())) # 10\n",
    "print(next(simp())) # 10\n",
    "```"
   ]
  },
  {
   "cell_type": "markdown",
   "metadata": {},
   "source": [
    "# Generator as a list\n",
    "------------------------------------------------------------------------------------------------\n",
    "We can use the generator like a list object:\n",
    "    \n",
    "```python\n",
    "for item in simp():\n",
    "    print(item)\n",
    "```\n",
    "\n",
    "Here's some code returning a list without generator:\n",
    "```python\n",
    "def nogen(num):\n",
    "    res=[]\n",
    "    i=0\n",
    "    while i<num:\n",
    "        i+=1\n",
    "        res.append(i)\n",
    "    return res\n",
    " \n",
    "s=nogen(10);\n",
    "print (s)\n",
    "# [1, 2, 3, 4, 5, 6, 7, 8, 9]\n",
    " \n",
    "for i in nogen(5):\n",
    "   print(i)\n",
    "```\n",
    "Try to implement it with now."
   ]
  },
  {
   "cell_type": "markdown",
   "metadata": {},
   "source": [
    "# Generator as a list cont.\n",
    "-------------------------------------------------------------------------------------------\n",
    "\n",
    "Solution:\n",
    "\n",
    "```python\n",
    "def withgen(num):\n",
    "    i=0;\n",
    "    while i<num:\n",
    "        i+=1\n",
    "        yield i\n",
    " \n",
    "s=withgen(10);\n",
    "print (s)\n",
    "# <generator object withgen at 0x1093786e0>\n",
    " \n",
    "for i in s:\n",
    "    print(i)\n",
    "```\n"
   ]
  },
  {
   "cell_type": "markdown",
   "metadata": {},
   "source": [
    "# Implementing an endless sequence\n",
    "-----------------------------------------------------------------------\n",
    "\n",
    "```python\n",
    "def simp():\n",
    "    num = 0;\n",
    "    while True: # endless loop\n",
    "        num+=10\n",
    "        yield num\n",
    " \n",
    "it=simp()\n",
    "print(it.next()) # 10\n",
    "print(it.next()) # 20\n",
    "print(it.next()) # 30\n",
    "```\n",
    "\n",
    "Sometimes we receive data from a stream and want to handle it like a sequence , with generator its easy. You can replace yielding a number with a function that receives a message from a network socket or a queue and return it etc."
   ]
  },
  {
   "cell_type": "markdown",
   "metadata": {},
   "source": [
    "# Let's implement a simple prime number generator\n",
    "---------------------------------------------------------------------------\n",
    "Code on the next slide but try by yourselves first!"
   ]
  },
  {
   "cell_type": "code",
   "execution_count": 1,
   "metadata": {},
   "outputs": [
    {
     "name": "stdout",
     "output_type": "stream",
     "text": [
      "2\n",
      "3\n",
      "5\n",
      "7\n",
      "11\n"
     ]
    }
   ],
   "source": [
    "def genPrimes():\n",
    "    yield 2 \n",
    "    x=2\n",
    "    while True:\n",
    "        x+=1\n",
    "        for p in genPrimes():\n",
    "            if p*p > x:        \n",
    "                yield x     \n",
    "                break       \n",
    "            if (x%p)==0:\n",
    "                break\n",
    "                \n",
    "                \n",
    "some_primes = genPrimes()\n",
    "for i in range(0,5):\n",
    "    print(next(some_primes))"
   ]
  },
  {
   "cell_type": "code",
   "execution_count": 2,
   "metadata": {},
   "outputs": [],
   "source": [
    "# TODO for homework : try to implement a Fibonacci numbers generator"
   ]
  },
  {
   "cell_type": "code",
   "execution_count": null,
   "metadata": {},
   "outputs": [],
   "source": []
  }
 ],
 "metadata": {
  "kernelspec": {
   "display_name": "Python 3",
   "language": "python",
   "name": "python3"
  },
  "language_info": {
   "codemirror_mode": {
    "name": "ipython",
    "version": 3
   },
   "file_extension": ".py",
   "mimetype": "text/x-python",
   "name": "python",
   "nbconvert_exporter": "python",
   "pygments_lexer": "ipython3",
   "version": "3.6.3"
  }
 },
 "nbformat": 4,
 "nbformat_minor": 2
}
