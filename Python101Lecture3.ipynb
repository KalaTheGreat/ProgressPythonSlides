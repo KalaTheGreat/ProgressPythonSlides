{
 "cells": [
  {
   "cell_type": "markdown",
   "metadata": {},
   "source": [
    "## Introduction to Databases with Python\n",
    "----------------------------------------------------------------------------------------\n",
    "\n",
    "![sqlitepython](http://www.sqlitetutorial.net/wp-content/uploads/2016/01/SQLite-Python.jpg)"
   ]
  },
  {
   "cell_type": "markdown",
   "metadata": {},
   "source": [
    "# WTF is a database, dude?\n",
    "----------------------------------------------------------------------------------------\n",
    "* A collection of data, can scale better than simple(flat) file.\n",
    "* Usually designed to model real world(OOP someone?).\n",
    "* Offers some kind of query language for CRUD operations.\n",
    "* Most popular are the relational databases."
   ]
  },
  {
   "cell_type": "markdown",
   "metadata": {},
   "source": [
    "# Now WTF is a relational database?\n",
    "-----------------------------------------------------------------------------------------\n",
    "\n",
    "> This(relational) model organizes data into one or more tables (or \"relations\") of columns and rows, with a unique key identifying each row. Rows are also called records or tuples.[2] Columns are also called attributes. Generally, each table/relation represents one \"entity type\" (such as customer or product). The rows represent instances of that type of entity (such as \"Lee\" or \"chair\") and the columns representing values attributed to that instance (such as address or price).\n",
    "                                                                                    Wikipedia\n",
    "                                                                                    \n",
    "* Relationships between entities can solve real world problems(e.g. John(**entity-customer**) buys 1 Big Mac(**entity-product**).)\n",
    "* The query language is **SQL**- many different flavors but the underlying concepts remain the same."
   ]
  },
  {
   "cell_type": "markdown",
   "metadata": {},
   "source": [
    "# Why it is useful?\n",
    "-----------------------------------------------------------------------------------------\n",
    "![](https://www.lee.k12.nc.us/cms/lib/NC01001912/Centricity/Domain/2133/suggestions.jpg)"
   ]
  },
  {
   "cell_type": "markdown",
   "metadata": {},
   "source": [
    "## Just because it is\n",
    "------------------------------------------------------------------------------------------\n",
    "\n",
    "* Separation of program logic(code) and data.\n",
    "* Same data can be reused in many different applications.\n",
    "* More sophisticated and flexible than flat file. What do you think if 20+ people are opening and saving the same file at the same time? What if somebody forgets to close it? \n",
    "\n",
    "Remember:\n",
    "* Files corrupt easily and generally are not designed for concurrent multi-user read-write. \n",
    "* Also when you open them you load the whole thing in your RAM memory. Not the case with databases.\n",
    "* How do you query a file? Errr....let's just use SQLite."
   ]
  },
  {
   "cell_type": "markdown",
   "metadata": {},
   "source": [
    "# What is SQLite 3?\n",
    "----------------------------------------------------------------------------------------------\n",
    "\n",
    "* Relational database engine. Comes with your Python installation.\n",
    "* Your whole database is kept in a single file.\n",
    "* Suitable for small to medium scale projects.\n",
    "\n",
    "![signmeup](http://greatbridgewrestlingclub.com/wp-content/uploads/2014/08/sign-me-up.jpg)"
   ]
  },
  {
   "cell_type": "markdown",
   "metadata": {},
   "source": [
    "# Using SQLite with Python\n",
    "------------------------------------------------------------------------------\n",
    "\n",
    "```python\n",
    "import sqlite3\n",
    "\n",
    "conn = sqlite3.connect('progress.db')\n",
    "c = conn.cursor()\n",
    "```\n",
    "\n",
    "Now go check the folder your program is in. There is another file there. Takeout: if we connect to a database that does not yet exist, SQLite creates it.\n",
    "\n",
    "Also you can create a in-memory database using the following connection string:\n",
    "```\n",
    "c1 = sqlite3.connect(\"file::memory:?cache=shared\")\n",
    "```\n",
    "By default SQLite does not offer any password protection so whoever has the db file has your data. Not perfect, but many solutions. You can research the official encryption extension [here](http://www.hwaci.com/sw/sqlite/see.html)."
   ]
  },
  {
   "cell_type": "markdown",
   "metadata": {},
   "source": [
    "# I want to create and update a table\n",
    "----------------------------------------------------------------------------------------------------------------\n",
    "\n",
    "All the transactions are executed using the cursor. Let's see the official example from the docs:\n",
    "```python\n",
    "# Create table\n",
    "c.execute('''CREATE TABLE IF NOT EXISTS stocks\n",
    "             (date text, trans text, symbol text, qty real, price real)''')\n",
    "\n",
    "# Insert a row of data\n",
    "c.execute(\"INSERT INTO stocks VALUES ('2006-01-05','BUY','RHAT',100,35.14)\")\n",
    "\n",
    "# Save (commit) the changes\n",
    "conn.commit()\n",
    "\n",
    "# We can also close the connection if we are done with it.\n",
    "# Just be sure any changes have been committed or they will be lost.\n",
    "conn.close()\n",
    "```\n",
    "See how after transactions are executed, they have to be commited to take effect. Also like we did with files we have to close the connection when we are done."
   ]
  },
  {
   "cell_type": "markdown",
   "metadata": {},
   "source": [
    "# Onto the cool stuff now\n",
    "----------------------------------------------------------------------------------------\n",
    "We can execute database queries in functions and with variables from our program. \n",
    "```python\n",
    "def insert_row(date,trans,symbol,qty,price):\n",
    "    c.execute(\"INSERT INTO stocks (date,trans,symbol,qty,price) VALUES (?,?,?,?,?)\",(date,trans,symbol,qty,price))\n",
    "    c.commit()\n",
    "    \n",
    "insert_row('2011-01-05','SELL','APPL',10000,11.12)\n",
    "```\n",
    "In order to make the execute more Python 3 looking we can do:\n",
    "```python\n",
    "c.execute(\"INSERT INTO stocks (date,trans,symbol,qty,price) VALUES ('{}','{}','{}',{},{})\".format(date,trans,symbol,qty,price))\n",
    "```\n",
    "Note that setting database entries using variables this way can break the whole database. \n",
    "We can select entres from the database:\n",
    "```python\n",
    "c.execute('SELECT * from stocks')\n",
    "for row in c.fetchall()\n",
    "    print(row)\n",
    "```\n",
    "Try to execute the following query by yourself: SELECT * FROM stocks WHERE trans='BUY'\n",
    "Then try SELECTing just one column from the table."
   ]
  },
  {
   "cell_type": "code",
   "execution_count": 1,
   "metadata": {},
   "outputs": [
    {
     "ename": "SyntaxError",
     "evalue": "invalid syntax (<ipython-input-1-4ec236970c92>, line 1)",
     "output_type": "error",
     "traceback": [
      "\u001b[1;36m  File \u001b[1;32m\"<ipython-input-1-4ec236970c92>\"\u001b[1;36m, line \u001b[1;32m1\u001b[0m\n\u001b[1;33m    ```python\u001b[0m\n\u001b[1;37m    ^\u001b[0m\n\u001b[1;31mSyntaxError\u001b[0m\u001b[1;31m:\u001b[0m invalid syntax\n"
     ]
    }
   ],
   "source": [
    "```python\n",
    "c.execute('SELECT * FROM stocks where trans=?',('BUY',))"
   ]
  },
  {
   "cell_type": "markdown",
   "metadata": {},
   "source": [
    "# Context managers a.k.a. with statement and SQLite\n",
    "-----------------------------------------------------------------------\n",
    "\n",
    "```python\n",
    "def insert_row(date,trans,symbol,qty,price):\n",
    "    with conn:\n",
    "        c.execute(\"INSERT INTO stocks (date,trans,symbol,qty,price) VALUES (?,?,?,?,?)\",(date,trans,symbol,qty,price))\n",
    "```"
   ]
  },
  {
   "cell_type": "markdown",
   "metadata": {},
   "source": [
    "# UPDATE and DELETE - point of no return\n",
    "-----------------------------------------------------------------------------\n",
    "\n",
    "```python\n",
    "c.execute('UPDATE stocks SET price=1 WHERE price=11.12')\n",
    "c.commit()\n",
    "```\n",
    "\n",
    "```python\n",
    "c.execute('DELETE FROM stocks WHERE price=1')\n",
    "c.commit()\n",
    "```"
   ]
  },
  {
   "cell_type": "markdown",
   "metadata": {},
   "source": [
    "# DUMPing database to a file\n",
    "-----------------------------------------------------------------------------\n",
    "```python\n",
    "with open('dump.sql','w') as f:\n",
    "    for line in conn.iterdump():\n",
    "        f.write(\"{}\\n\".format(line))\n",
    "```"
   ]
  }
 ],
 "metadata": {
  "kernelspec": {
   "display_name": "Python 3",
   "language": "python",
   "name": "python3"
  },
  "language_info": {
   "codemirror_mode": {
    "name": "ipython",
    "version": 3
   },
   "file_extension": ".py",
   "mimetype": "text/x-python",
   "name": "python",
   "nbconvert_exporter": "python",
   "pygments_lexer": "ipython3",
   "version": "3.6.3"
  }
 },
 "nbformat": 4,
 "nbformat_minor": 2
}
